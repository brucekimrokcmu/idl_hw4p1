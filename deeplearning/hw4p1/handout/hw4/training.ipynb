{
  "cells": [
    {
      "cell_type": "code",
      "execution_count": 1,
      "metadata": {
        "id": "oxiZ42B4SwQ-"
      },
      "outputs": [
        {
          "name": "stdout",
          "output_type": "stream",
          "text": [
            "Requirement already satisfied: adamp in /opt/conda/envs/pytorch/lib/python3.9/site-packages (0.3.0)\n"
          ]
        }
      ],
      "source": [
        "%matplotlib inline\n",
        "! pip install adamp\n",
        "\n",
        "\n",
        "import numpy as np\n",
        "from matplotlib import pyplot as plt\n",
        "import time\n",
        "import torch\n",
        "import os\n",
        "import torch.nn as nn\n",
        "from torch.autograd import Variable\n",
        "from torch.utils.data import Dataset, DataLoader\n",
        "from tests_hw4 import test_prediction, test_generation\n",
        "from adamp import AdamP\n"
      ]
    },
    {
      "cell_type": "code",
      "execution_count": 2,
      "metadata": {},
      "outputs": [
        {
          "name": "stdout",
          "output_type": "stream",
          "text": [
            "Fri Dec  9 03:33:35 2022       \n",
            "+-----------------------------------------------------------------------------+\n",
            "| NVIDIA-SMI 515.65.01    Driver Version: 515.65.01    CUDA Version: 11.7     |\n",
            "|-------------------------------+----------------------+----------------------+\n",
            "| GPU  Name        Persistence-M| Bus-Id        Disp.A | Volatile Uncorr. ECC |\n",
            "| Fan  Temp  Perf  Pwr:Usage/Cap|         Memory-Usage | GPU-Util  Compute M. |\n",
            "|                               |                      |               MIG M. |\n",
            "|===============================+======================+======================|\n",
            "|   0  Tesla T4            On   | 00000000:00:1E.0 Off |                    0 |\n",
            "| N/A   26C    P8    14W /  70W |      2MiB / 15360MiB |      0%      Default |\n",
            "|                               |                      |                  N/A |\n",
            "+-------------------------------+----------------------+----------------------+\n",
            "                                                                               \n",
            "+-----------------------------------------------------------------------------+\n",
            "| Processes:                                                                  |\n",
            "|  GPU   GI   CI        PID   Type   Process name                  GPU Memory |\n",
            "|        ID   ID                                                   Usage      |\n",
            "|=============================================================================|\n",
            "|  No running processes found                                                 |\n",
            "+-----------------------------------------------------------------------------+\n",
            "device  cuda\n"
          ]
        }
      ],
      "source": [
        "! nvidia-smi\n",
        "device = 'cuda' if torch.cuda.is_available() else 'cpu'\n",
        "print(\"device \", device)"
      ]
    },
    {
      "cell_type": "code",
      "execution_count": 3,
      "metadata": {},
      "outputs": [],
      "source": [
        "# TODO: define other hyperparameters here\n",
        "config = {\n",
        "'SEQ_LEN' : 30,\n",
        "'SEQ_LEN_PROBABILITY' : 0.95,\n",
        "'SEQ_LEN_STD' : 5,\n",
        "'NUM_EPOCHS' : 10,\n",
        "'BATCH_SIZE' : 40,\n",
        "'EMB_DIM' : 180,\n",
        "'HIDDEN_SIZE' : 220,\n",
        "'NUM_LAYERS' : 3,\n",
        "'DROPOUT' : 0.25,\n",
        "'LR' : 0.001\n",
        "}\n"
      ]
    },
    {
      "cell_type": "code",
      "execution_count": 4,
      "metadata": {
        "id": "x5znxQhLSwRC"
      },
      "outputs": [],
      "source": [
        "# load all that we need\n",
        "\n",
        "dataset = np.load('../dataset/wiki.train.npy', allow_pickle=True)\n",
        "devset = np.load('../dataset/wiki.valid.npy', allow_pickle=True)\n",
        "fixtures_pred = np.load('../fixtures/prediction.npz')  # dev\n",
        "fixtures_gen = np.load('../fixtures/generation.npy')  # dev\n",
        "fixtures_pred_test = np.load('../fixtures/prediction_test.npz')  # test\n",
        "fixtures_gen_test = np.load('../fixtures/generation_test.npy')  # test\n",
        "vocab = np.load('../dataset/vocab.npy')"
      ]
    },
    {
      "cell_type": "code",
      "execution_count": 5,
      "metadata": {
        "id": "OZNrJ8XvSwRF"
      },
      "outputs": [],
      "source": [
        "# data loader\n",
        "\n",
        "class DataLoaderForLanguageModeling(DataLoader):\n",
        "    \"\"\"\n",
        "        TODO: Define data loader logic here\n",
        "    \"\"\"\n",
        "    def __init__(self, dataset, batch_size, shuffle=True):\n",
        "        self.dataset = dataset # TODO\n",
        "        self.batch_size = batch_size # TODO\n",
        "        self.shuffle = shuffle # TODO         \n",
        "\n",
        "    def __iter__(self):\n",
        "        \"\"\"\n",
        "            You may implement some of the techniques in https://arxiv.org/pdf/1708.02182.pdf\n",
        "            example: Variable length backpropagation sequences (Section 4.1)\n",
        "        \"\"\"\n",
        "        # 1. Randomly shuffle all the articles from the WikiText-2 dataset.\n",
        "        # 2. Concatenate all text in one long string.\n",
        "        # 3. Group the sequences into batches.\n",
        "        # 4. Run a loop that returns a tuple of (input, label) on every iteration with yield.\n",
        "\n",
        "\n",
        "        if self.shuffle:\n",
        "            np.random.shuffle(self.dataset)\n",
        "\n",
        "        self.seq_len = config[\"SEQ_LEN\"]\n",
        "\n",
        "        data = np.concatenate(self.dataset)\n",
        "        self.line_len =  (len(data)-1)//self.batch_size\n",
        "        inputs = torch.from_numpy(data[0:self.line_len*self.batch_size].reshape(self.batch_size,-1)).long()\n",
        "        targets = torch.from_numpy(data[1:self.line_len*self.batch_size+1].reshape(self.batch_size,-1)).long()\n",
        "        \n",
        "        i = 0\n",
        "        curr_seq_len = self.seq_len\n",
        "        while i + curr_seq_len < inputs.shape[1]:\n",
        "            input = inputs[:,i:i+curr_seq_len]\n",
        "            target = targets[:,i:i+curr_seq_len]\n",
        "            i += curr_seq_len\n",
        "            yield (input, target)\n",
        "            curr_seq_len = self.seq_len if np.random.rand() < config['SEQ_LEN_PROBABILITY'] else self.seq_len//2\n",
        "            curr_seq_len_temp = int(np.random.normal(curr_seq_len, config['SEQ_LEN_STD']))\n",
        "            curr_seq_len = curr_seq_len_temp if curr_seq_len_temp > 0 else curr_seq_len\n",
        "\n",
        "\n",
        "        # # TEST       \n",
        "# test = DataLoaderForLanguageModeling(dataset, config['BATCH_SIZE'], config['SEQ_LEN'])\n",
        "# for i,(test_inputs, test_targets) in enumerate(test.__iter__()):\n",
        "#     print('---------')\n",
        "#     print('iter: ', i)\n",
        "#     print('shape: ', test_inputs.shape)\n",
        "#     print('type: ', test_inputs.dtype, ', ', test_targets.dtype)\n",
        "#     for batch_idx in range(0, test.batch_size):\n",
        "#         tmpstr1 = ['    ']\n",
        "#         tmpstr2 = ['    ']\n",
        "#         for seq_idx in range(0, test.seq_len):\n",
        "#             tmpstr1.append(vocab[test_inputs[batch_idx, seq_idx]])\n",
        "#             tmpstr2.append(vocab[test_targets[batch_idx, seq_idx]])\n",
        "#         print(' '.join(tmpstr1))\n",
        "#         print(' '.join(tmpstr2))\n",
        "#         print()\n",
        "#     if(i > 3):\n",
        "#         break\n",
        "        "
      ]
    },
    {
      "cell_type": "code",
      "execution_count": 6,
      "metadata": {
        "id": "Zt-7YsTYSwRI"
      },
      "outputs": [],
      "source": [
        "# model\n",
        "\n",
        "class Model(nn.Module):\n",
        "    \"\"\"\n",
        "        TODO: Define your model here\n",
        "    \"\"\"\n",
        "    def __init__(self, vocab_size:int, embedding_dim:int, hidden_size:int):\n",
        "        super(Model, self).__init__()\n",
        "        self.embedding = nn.Embedding(vocab_size, embedding_dim)\n",
        "        \n",
        "        self.lstm = nn.LSTM(embedding_dim,hidden_size,num_layers=config['NUM_LAYERS'], \n",
        "          dropout=config['DROPOUT'], batch_first=True)\n",
        "\n",
        "        self.classifier = nn.Linear(hidden_size, vocab_size)\n",
        "\n",
        "    def forward(self, x):\n",
        "        # Feel free to add extra arguments to forward (like an argument to pass in the hiddens)\n",
        "        x = self.embedding(x)\n",
        "        x, _ = self.lstm(x)\n",
        "        x = self.classifier(x)\n",
        "        \n",
        "        return x, _\n",
        "\n",
        "#   # TEST\n",
        "# model = Model(len(vocab), config['EMB_DIM'], config['HIDDEN_SIZE'])\n",
        "# test_input = torch.randint(0, len(vocab), (config['BATCH_SIZE'], config['SEQ_LEN']), dtype=torch.long)\n",
        "# test_output, test_hidden = model(test_input)\n",
        "# print('Input : ', test_input.shape, ', ', test_input.dtype)\n",
        "# print('Output: ', test_output.shape, ', ', test_output.dtype) # (batch, seq_len, vocab_size)\n"
      ]
    },
    {
      "cell_type": "code",
      "execution_count": 7,
      "metadata": {
        "id": "kIvZOIfjSwRK"
      },
      "outputs": [],
      "source": [
        "# model trainer\n",
        "\n",
        "class Trainer:\n",
        "    def __init__(self, model, loader, max_epochs=1, run_id='exp'):\n",
        "        \"\"\"\n",
        "            Use this class to train your model\n",
        "        \"\"\"\n",
        "        # feel free to add any other parameters here\n",
        "        self.model = model\n",
        "        self.loader = loader\n",
        "        self.train_losses = []\n",
        "        self.val_losses = []\n",
        "        self.predictions = []\n",
        "        self.predictions_test = []\n",
        "        self.generated_logits = []\n",
        "        self.generated = []\n",
        "        self.generated_logits_test = []\n",
        "        self.generated_test = []\n",
        "        self.epochs = 0\n",
        "        self.max_epochs = max_epochs\n",
        "        self.run_id = run_id\n",
        "        \n",
        "        # TODO: Define your optimizer and criterion here\n",
        "        # feel free to define a learning rate scheduler as well if you want\n",
        "        self.optimizer = AdamP(model.parameters(), lr=config['LR']) #let's try AdamP\n",
        "        self.criterion = nn.CrossEntropyLoss()\n",
        "\n",
        "    def train(self):\n",
        "        self.model.train() # set to training mode\n",
        "        epoch_loss = 0\n",
        "        num_batches = 0\n",
        "        for batch_num, (inputs, targets) in enumerate(self.loader):\n",
        "            epoch_loss += self.train_batch(inputs, targets)\n",
        "        epoch_loss = epoch_loss / (batch_num + 1)\n",
        "        print('[TRAIN]  Epoch [%d/%d]   Loss: %.4f'\n",
        "                      % (self.epochs + 1, self.max_epochs, epoch_loss))\n",
        "        self.train_losses.append(epoch_loss.cpu().detach().numpy())\n",
        "\n",
        "    def train_batch(self, inputs, targets):\n",
        "        \"\"\" \n",
        "            TODO: Define code for training a single batch of inputs\n",
        "            \n",
        "            :return \n",
        "                    (float) loss value\n",
        "        \"\"\"\n",
        "        self.optimizer.zero_grad()\n",
        "        inputs= inputs.to(device)\n",
        "        outputs, _ = self.model(inputs)\n",
        "        targets = targets.to(device)\n",
        "        loss = self.criterion( outputs.reshape(-1, outputs.shape[2]),\n",
        "            targets.reshape(-1))\n",
        "\n",
        "        loss.backward()\n",
        "        self.optimizer.step()\n",
        "\n",
        "        return loss\n",
        "\n",
        "    \n",
        "    def test(self):\n",
        "        # don't change these\n",
        "        self.model.eval() # set to eval mode\n",
        "        predictions = TestLanguageModel.predict(fixtures_pred['inp'], self.model) # get predictions\n",
        "        self.predictions.append(predictions)\n",
        "        generated_logits = TestLanguageModel.generate(fixtures_gen, 10, self.model) # generated predictions for 10 words\n",
        "        generated_logits_test = TestLanguageModel.generate(fixtures_gen_test, 10, self.model)\n",
        "        nll = test_prediction(predictions, fixtures_pred['out'])\n",
        "        generated = test_generation(fixtures_gen, generated_logits, vocab)\n",
        "        generated_test = test_generation(fixtures_gen_test, generated_logits_test, vocab)\n",
        "        self.val_losses.append(nll)\n",
        "        \n",
        "        self.generated.append(generated)\n",
        "        self.generated_test.append(generated_test)\n",
        "        self.generated_logits.append(generated_logits)\n",
        "        self.generated_logits_test.append(generated_logits_test)\n",
        "        \n",
        "        # generate predictions for test data\n",
        "        predictions_test = TestLanguageModel.predict(fixtures_pred_test['inp'], self.model) # get predictions\n",
        "        self.predictions_test.append(predictions_test)\n",
        "            \n",
        "        print('[VAL]  Epoch [%d/%d]   Loss: %.4f'\n",
        "                      % (self.epochs + 1, self.max_epochs, nll))\n",
        "        self.epochs += 1\n",
        "\n",
        "        return nll\n",
        "\n",
        "    def save(self):\n",
        "        # don't change these\n",
        "        model_path = os.path.join('experiments', self.run_id, 'model-{}.pkl'.format(self.epochs))\n",
        "        torch.save({'state_dict': self.model.state_dict()},\n",
        "            model_path)\n",
        "        np.save(os.path.join('experiments', self.run_id, 'predictions-{}.npy'.format(self.epochs)), self.predictions[-1])\n",
        "        np.save(os.path.join('experiments', self.run_id, 'predictions-test-{}.npy'.format(self.epochs)), self.predictions_test[-1])\n",
        "        np.save(os.path.join('experiments', self.run_id, 'generated_logits-{}.npy'.format(self.epochs)), self.generated_logits[-1])\n",
        "        np.save(os.path.join('experiments', self.run_id, 'generated_logits-test-{}.npy'.format(self.epochs)), self.generated_logits_test[-1])\n",
        "        with open(os.path.join('experiments', self.run_id, 'generated-{}.txt'.format(self.epochs)), 'w') as fw:\n",
        "            fw.write(self.generated[-1])\n",
        "        with open(os.path.join('experiments', self.run_id, 'generated-{}-test.txt'.format(self.epochs)), 'w') as fw:\n",
        "            fw.write(self.generated_test[-1])\n"
      ]
    },
    {
      "cell_type": "code",
      "execution_count": 8,
      "metadata": {
        "id": "xPI7_kZRSwRN"
      },
      "outputs": [],
      "source": [
        "class TestLanguageModel:\n",
        "    def predict(inp, model):\n",
        "        \"\"\"\n",
        "            TODO: write prediction code here\n",
        "            \n",
        "            :param inp:\n",
        "            :return: a np.ndarray of logits\n",
        "        \"\"\"\n",
        "        \n",
        "        outputs, _ = model(torch.Tensor(inp).long().to(device))\n",
        "        pred = (outputs[:,-1,:]).cpu().detach().numpy()\n",
        "\n",
        "        return pred\n",
        "\n",
        "        \n",
        "    def generate(inp, forward, model):\n",
        "        \"\"\"\n",
        "            TODO: write generation code here\n",
        "\n",
        "            Generate a sequence of words given a starting sequence.\n",
        "            :param inp: Initial sequence of words (batch size, length)\n",
        "            :param forward: number of additional words to generate\n",
        "            :return: generated words (batch size, forward)\n",
        "        \"\"\"        \n",
        "        generated_words = []\n",
        "        temp_inp = torch.clone(torch.Tensor(inp).long())\n",
        "        for i in range(forward):\n",
        "            out, _ = model(temp_inp.to(device))\n",
        "            temp_words = torch.argmax(out, dim=2)[:,-1]\n",
        "            generated_words.append(temp_words)\n",
        "            temp_inp = torch.unsqueeze(temp_words, dim=1)\n",
        "        generated_words = (torch.stack(generated_words, dim=1)).cpu().detach().numpy()\n",
        "\n",
        "        return generated_words\n",
        "\n",
        "\n",
        "# # TEST\n",
        "# test_input = torch.randint(0, len(vocab), (config['BATCH_SIZE'], config['SEQ_LEN']))\n",
        "# test_model = Model(len(vocab), config['EMB_DIM'], config['HIDDEN_SIZE']).to(device)\n",
        "# test_output = TestLanguageModel.predict(test_input, test_model)\n",
        "# print('Test predict : ', test_output.shape)\n",
        "# test_output = TestLanguageModel.generate(test_input, 20, test_model)\n",
        "# print('Test generate: ', test_output.shape)"
      ]
    },
    {
      "cell_type": "code",
      "execution_count": 9,
      "metadata": {
        "id": "2HCVG5YISwRW"
      },
      "outputs": [
        {
          "name": "stdout",
          "output_type": "stream",
          "text": [
            "Saving models, predictions, and generated words to ./experiments/1670556830\n"
          ]
        }
      ],
      "source": [
        "run_id = str(int(time.time()))\n",
        "if not os.path.exists('./experiments'):\n",
        "    os.mkdir('./experiments')\n",
        "os.mkdir('./experiments/%s' % run_id)\n",
        "print(\"Saving models, predictions, and generated words to ./experiments/%s\" % run_id)"
      ]
    },
    {
      "cell_type": "markdown",
      "metadata": {},
      "source": []
    },
    {
      "cell_type": "code",
      "execution_count": 10,
      "metadata": {
        "id": "DbHH6zXTSwRa"
      },
      "outputs": [],
      "source": [
        "model = Model(len(vocab), embedding_dim=config['EMB_DIM'], hidden_size=config['HIDDEN_SIZE']).to(device)\n",
        "\n",
        "loader = DataLoaderForLanguageModeling(\n",
        "    dataset=dataset, \n",
        "    batch_size=config['BATCH_SIZE'], \n",
        "    shuffle=True\n",
        ")\n",
        "trainer = Trainer(\n",
        "    model=model, \n",
        "    loader=loader, \n",
        "    max_epochs=config['NUM_EPOCHS'], \n",
        "    run_id=run_id\n",
        ")   "
      ]
    },
    {
      "cell_type": "code",
      "execution_count": 11,
      "metadata": {
        "id": "7D8wTJkBSwRc"
      },
      "outputs": [
        {
          "name": "stdout",
          "output_type": "stream",
          "text": [
            "best_nll is  1e+30\n",
            "Epoch:  1 / 10\n",
            "[TRAIN]  Epoch [1/10]   Loss: 6.9211\n",
            "[VAL]  Epoch [1/10]   Loss: 5.9293\n",
            "Saving model, predictions and generated output for epoch 0 with NLL: 5.9293375\n",
            "Epoch:  2 / 10\n",
            "[TRAIN]  Epoch [2/10]   Loss: 6.1682\n",
            "[VAL]  Epoch [2/10]   Loss: 5.4453\n",
            "Saving model, predictions and generated output for epoch 1 with NLL: 5.4452777\n",
            "Epoch:  3 / 10\n",
            "[TRAIN]  Epoch [3/10]   Loss: 5.7993\n",
            "[VAL]  Epoch [3/10]   Loss: 5.1756\n",
            "Saving model, predictions and generated output for epoch 2 with NLL: 5.1755753\n",
            "Epoch:  4 / 10\n",
            "[TRAIN]  Epoch [4/10]   Loss: 5.5737\n",
            "[VAL]  Epoch [4/10]   Loss: 5.0360\n",
            "Saving model, predictions and generated output for epoch 3 with NLL: 5.0360394\n",
            "Epoch:  5 / 10\n",
            "[TRAIN]  Epoch [5/10]   Loss: 5.4055\n",
            "[VAL]  Epoch [5/10]   Loss: 4.9351\n",
            "Saving model, predictions and generated output for epoch 4 with NLL: 4.93511\n",
            "Epoch:  6 / 10\n",
            "[TRAIN]  Epoch [6/10]   Loss: 5.2591\n",
            "[VAL]  Epoch [6/10]   Loss: 4.8423\n",
            "Saving model, predictions and generated output for epoch 5 with NLL: 4.842291\n",
            "Epoch:  7 / 10\n",
            "[TRAIN]  Epoch [7/10]   Loss: 5.1354\n",
            "[VAL]  Epoch [7/10]   Loss: 4.8381\n",
            "Saving model, predictions and generated output for epoch 6 with NLL: 4.838113\n",
            "Epoch:  8 / 10\n",
            "[TRAIN]  Epoch [8/10]   Loss: 5.0328\n",
            "[VAL]  Epoch [8/10]   Loss: 4.7558\n",
            "Saving model, predictions and generated output for epoch 7 with NLL: 4.755829\n",
            "Epoch:  9 / 10\n",
            "[TRAIN]  Epoch [9/10]   Loss: 4.9438\n",
            "[VAL]  Epoch [9/10]   Loss: 4.7181\n",
            "Saving model, predictions and generated output for epoch 8 with NLL: 4.718134\n",
            "Epoch:  10 / 10\n",
            "[TRAIN]  Epoch [10/10]   Loss: 4.8681\n",
            "[VAL]  Epoch [10/10]   Loss: 4.7893\n"
          ]
        }
      ],
      "source": [
        "best_nll = 1e30 \n",
        "print('best_nll is ', best_nll)\n",
        "for epoch in range(config['NUM_EPOCHS']):\n",
        "    print('Epoch: ', epoch+1, '/', config['NUM_EPOCHS'])\n",
        "    trainer.train()\n",
        "    nll = trainer.test()\n",
        "    if nll < best_nll:\n",
        "        best_nll = nll\n",
        "        print(\"Saving model, predictions and generated output for epoch \"+str(epoch)+\" with NLL: \"+ str(best_nll))\n",
        "        trainer.save()\n",
        "    "
      ]
    },
    {
      "cell_type": "code",
      "execution_count": 12,
      "metadata": {
        "id": "z2FmDqBCSwRf"
      },
      "outputs": [
        {
          "data": {
            "image/png": "[encoded data removed]",
            "text/plain": [
              "<Figure size 640x480 with 1 Axes>"
            ]
          },
          "metadata": {},
          "output_type": "display_data"
        }
      ],
      "source": [
        "# Don't change these\n",
        "# plot training curves\n",
        "plt.figure()\n",
        "plt.plot(range(1, trainer.epochs + 1), trainer.train_losses, label='Training losses')\n",
        "plt.plot(range(1, trainer.epochs + 1), trainer.val_losses, label='Validation losses')\n",
        "plt.xlabel('Epochs')\n",
        "plt.ylabel('NLL')\n",
        "plt.legend()\n",
        "plt.show()"
      ]
    },
    {
      "cell_type": "code",
      "execution_count": 13,
      "metadata": {
        "id": "ipdbmqaGSwRh"
      },
      "outputs": [
        {
          "name": "stdout",
          "output_type": "stream",
          "text": [
            "Input | Output #0: while the group was en route , but only three were ultimately able to attack . None of them were | unable to the <unk> , and the <unk> , and\n",
            "Input | Output #1: <unk> , where he remained on loan until 30 June 2010 . <eol> = = = Return to Manchester United | = = = = = = = = = =\n",
            "Input | Output #2: 25 April 2013 , denoting shipments of 500 @,@ 000 copies . <eol> The song became One Direction 's fourth | single , and the <unk> , and the <unk> ,\n",
            "Input | Output #3: , and Bruce R. ) one daughter ( Wendy J. <unk> ) and two grandchildren , died in <unk> , | and the <unk> , and the <unk> , and the\n",
            "Input | Output #4: Warrior were examples of this type . Because their armor was so heavy , they could only carry a single | down the <unk> , and the <unk> , and the\n",
            "Input | Output #5: the embassy at 1 : 49 and landed on Guam at 2 : 23 ; twenty minutes later , Ambassador | and the <unk> , and the <unk> , and the\n",
            "Input | Output #6: <unk> , $ 96 million USD ) . Damage was heaviest in South Korea , notably where it moved ashore | . <eol> = = = = = = = =\n",
            "Input | Output #7: The <unk> were condemned as <unk> by <unk> , who saw the riots as hampering attempts to resolve the situation | . <eol> = = = = = = = =\n",
            "Input | Output #8: by a decision made by the War Office in mid @-@ 1941 , as it was considering the equipment to | the <unk> , and the <unk> , and the <unk>\n",
            "Input | Output #9: Division crossed the <unk> at a number of places and climbed the hills quietly toward the 9th Infantry river line | . <eol> = = = = = = = =\n",
            "Input | Output #10: = <eol> = = = French VIII . Corps ( Corps <unk> ) = = = <eol> On 6 November | , and the <unk> , and the <unk> , and\n",
            "Input | Output #11: of the World from 9th Avenue \" . This is regarded as his most famous work . It is considered | a <unk> , and the <unk> , and the <unk>\n",
            "Input | Output #12: — <unk> @-@ 10 , <unk> @-@ 12 , <unk> @-@ 16 , <unk> @-@ 17 — were all converted | to the <unk> , and the <unk> , and the\n",
            "Input | Output #13: And now he has . \" <eol> = = Family = = <eol> <unk> lived 37 of his years in | the <unk> , and the <unk> , and the <unk>\n",
            "Input | Output #14: Hell to which he has been condemned for <unk> . Eliot , in a letter to John <unk> dated 27 | October , and the <unk> , and the <unk> ,\n",
            "Input | Output #15: Luoyang area , fulfilling his duties in domestic affairs . <eol> In the autumn of <unk> , he met Li | <unk> , and the <unk> , and the <unk> ,\n",
            "Input | Output #16: Power said they enjoyed Block Ball and its number of stages , but wondered how its eight <unk> of memory | were the <unk> , and the <unk> , and the\n",
            "Input | Output #17: by Lloyd F. Lonergan . The cameraman was Jacques <unk> . <eol> = = Release and reception = = <eol> | The <unk> , and the <unk> , and the <unk>\n",
            "Input | Output #18: alone , the Austrians lost more than half their reserve artillery park , 6 @,@ 000 ( out of 8 | @,@ 000 . <eol> = = = = = =\n",
            "Input | Output #19: while attacking a ship at <unk> in the Dutch East Indies ; the loss was compounded by the fact that | the <unk> , and the <unk> , and the <unk>\n",
            "Input | Output #20: first raised in 2007 by the member of parliament ( MP ) for <unk> . The gangsters may have run | in the <unk> , and the <unk> , and the\n",
            "Input | Output #21: Species are also non @-@ spiny <unk> and includes both large trees with stout stems up to 30 metres ( | 1 @.@ 5 @.@ 5 @.@ 5 @.@ 5 @.@\n",
            "Input | Output #22: \" : specific design issues with the building 's energy efficiency included the fact that the largest room in the | <unk> , and the <unk> , and the <unk> ,\n",
            "Input | Output #23: were reported to support over 300 @,@ 000 households in the Brazilian state of <unk> in 2005 , and in | the <unk> , and the <unk> , and the <unk>\n",
            "Input | Output #24: port . <unk> in Vietnam also warned for the potential of heavy rainfall due to the dissipating Tropical Depression <unk> | , and the <unk> , and the <unk> , and\n",
            "Input | Output #25: T @-@ numbers in their tropical cyclone products . The following example is from discussion number 3 of Tropical Depression | Thirteen @-@ <unk> , and the <unk> , and the\n",
            "Input | Output #26: South Australia hosted the three @-@ game semi @-@ final series against the New South Wales <unk> . Both teams | were the <unk> , and the <unk> , and the\n",
            "Input | Output #27: Perth from contention and secured the last finals spot for the <unk> . <eol> = = = Statistical leaders = | = = = = = = = = = =\n",
            "Input | Output #28: deemed it an \" amazing pop song \" , lauding the group 's falsetto and its \" head @-@ <unk> | \" . <eol> = = = = = = =\n",
            "Input | Output #29: , but began patrolling the English Channel after <unk> @-@ 6 pioneered a route past British <unk> nets and mines | . <eol> = = = = = = = =\n",
            "Input | Output #30: production executives to let him direct . He had already discussed the film with <unk> and Cohen , and felt | that the <unk> , and the <unk> , and the\n",
            "Input | Output #31: and Nick <unk> at Studio <unk> in Los Angeles , California , and was released on August 1 , 2006 | . <eol> = = = = = = = =\n",
            "\n"
          ]
        }
      ],
      "source": [
        "# see generated output\n",
        "print (trainer.generated[-1]) # get last generated output"
      ]
    }
  ],
  "metadata": {
    "colab": {
      "name": "training.ipynb",
      "provenance": []
    },
    "kernelspec": {
      "display_name": "Python 3.9.13 ('pytorch')",
      "language": "python",
      "name": "python3"
    },
    "language_info": {
      "codemirror_mode": {
        "name": "ipython",
        "version": 3
      },
      "file_extension": ".py",
      "mimetype": "text/x-python",
      "name": "python",
      "nbconvert_exporter": "python",
      "pygments_lexer": "ipython3",
      "version": "3.9.13"
    },
    "vscode": {
      "interpreter": {
        "hash": "2d58e898dde0263bc564c6968b04150abacfd33eed9b19aaa8e45c040360e146"
      }
    }
  },
  "nbformat": 4,
  "nbformat_minor": 0
}
